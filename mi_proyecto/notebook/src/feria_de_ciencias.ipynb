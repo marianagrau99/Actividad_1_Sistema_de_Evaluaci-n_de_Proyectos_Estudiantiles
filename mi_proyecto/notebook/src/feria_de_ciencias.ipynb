{
 "cells": [
  {
   "cell_type": "code",
   "execution_count": 1,
   "id": "e630e159-2f02-4e74-8027-6baf5ae49194",
   "metadata": {},
   "outputs": [],
   "source": [
    "import os\n",
    "import sys\n",
    "import json\n",
    "\n",
    "# Agrego la carpeta src al path para poder importar mis funciones\n",
    "sys.path.append(os.path.abspath('./src'))\n",
    "\n",
    "# Importo módulo con las funciones de cálculo\n",
    "import evaluaciones as e "
   ]
  },
  {
   "cell_type": "code",
   "execution_count": 2,
   "id": "4d5ed2ba-aec8-4e39-9962-cc44375f35d2",
   "metadata": {},
   "outputs": [],
   "source": [
    "# Carga de archivo JSON con las evaluaciones\n",
    "ruta = 'datos.json'\n",
    "\n",
    "if os.path.exists(ruta):\n",
    "    with open(ruta, 'r') as f:\n",
    "        evaluaciones = json.load(f)\n",
    "else:\n",
    "    evaluaciones = []"
   ]
  },
  {
   "cell_type": "code",
   "execution_count": 3,
   "id": "009b90fe-1083-4083-b904-8179bb4bf4f3",
   "metadata": {},
   "outputs": [],
   "source": [
    "# Diccionario para acumular los datos de cada equipo\n",
    "acumulado = {}\n",
    "\n",
    "# Lista para guardar el mejor equipo de cada ronda\n",
    "mejores_equipos_ronda = []"
   ]
  },
  {
   "cell_type": "code",
   "execution_count": 4,
   "id": "29cc9d5f-ac42-47d7-8ae0-f34e08fac86b",
   "metadata": {},
   "outputs": [
    {
     "name": "stdout",
     "output_type": "stream",
     "text": [
      "\n",
      "Ronda 1\n",
      "Mejor Equipo de la Ronda: EquipoA (6 puntos)\n",
      "Ranking Actualizado:\n",
      "Equipo     Innovación Presentación  Errores  Mejores   Puntos\n",
      "EquipoA    2          1             1        1         6     \n",
      "EquipoC    1          2             1        0         4     \n",
      "EquipoE    1          1             0        0         4     \n",
      "EquipoB    1          0             0        0         3     \n",
      "EquipoD    0          1             0        0         1     \n",
      "\n",
      "Ronda 2\n",
      "Mejor Equipo de la Ronda: EquipoD (6 puntos)\n",
      "Ranking Actualizado:\n",
      "Equipo     Innovación Presentación  Errores  Mejores   Puntos\n",
      "EquipoA    2          3             1        1         8     \n",
      "EquipoB    3          0             1        0         8     \n",
      "EquipoC    2          3             1        0         8     \n",
      "EquipoD    2          2             1        1         7     \n",
      "EquipoE    1          2             0        0         5     \n",
      "\n",
      "Ronda 3\n",
      "Mejor Equipo de la Ronda: EquipoA (11 puntos)\n",
      "Ranking Actualizado:\n",
      "Equipo     Innovación Presentación  Errores  Mejores   Puntos\n",
      "EquipoA    5          5             1        2         19    \n",
      "EquipoC    4          3             1        0         14    \n",
      "EquipoE    3          4             0        0         13    \n",
      "EquipoD    3          5             2        1         12    \n",
      "EquipoB    4          1             2        0         11    \n",
      "\n",
      "Ronda 4\n",
      "Mejor Equipo de la Ronda: EquipoC (10 puntos)\n",
      "Ranking Actualizado:\n",
      "Equipo     Innovación Presentación  Errores  Mejores   Puntos\n",
      "EquipoA    6          8             2        2         24    \n",
      "EquipoC    7          4             1        1         24    \n",
      "EquipoB    6          3             2        0         19    \n",
      "EquipoE    5          4             0        0         19    \n",
      "EquipoD    3          7             3        1         13    \n",
      "\n",
      "Ronda 5\n",
      "Mejor Equipo de la Ronda: EquipoD (10 puntos)\n",
      "Ranking Actualizado:\n",
      "Equipo     Innovación Presentación  Errores  Mejores   Puntos\n",
      "EquipoA    8          10            2        2         32    \n",
      "EquipoE    7          7             1        0         27    \n",
      "EquipoC    7          6             1        1         26    \n",
      "EquipoB    7          6             3        0         24    \n",
      "EquipoD    6          8             3        2         23    \n"
     ]
    }
   ],
   "source": [
    "# Se recorre cada ronda de evaluación\n",
    "for i, ronda in enumerate(evaluaciones):\n",
    "    print(f\"\\nRonda {i+1}\")\n",
    "\n",
    "    # 1) Cálculo del puntaje de cada equipo en cada ronda\n",
    "    puntajes = e.calcular_puntaje(ronda)\n",
    "\n",
    "    # 2)  Se determina el Mejor Equipo de cada ronda(MER) (el que tenga mayor puntaje en esa ronda)\n",
    "    mer_equipo, mer_puntaje = e.obtener_mejor_equipo(puntajes)\n",
    "    mejores_equipos_ronda.append((mer_equipo, mer_puntaje))\n",
    "\n",
    "    # 3)  Actualización del acumulado con los datos de la ronda\n",
    "    e.actualizar_acumulado(acumulado, ronda, puntajes, mer_equipo)\n",
    "\n",
    "    # 4) Se muestra el Mejor Equipo de la Ronda\n",
    "    print(f\"Mejor Equipo de la Ronda: {mer_equipo} ({mer_puntaje} puntos)\")\n",
    "\n",
    "    # 5. Ranking actualizado luego de cada ronda\n",
    "    print(\"Ranking Actualizado:\")\n",
    "    e.mostrar_tabla(acumulado)\n"
   ]
  },
  {
   "cell_type": "code",
   "execution_count": 8,
   "id": "1207c54b-bb85-4ae5-9d35-ece3032eeb37",
   "metadata": {},
   "outputs": [
    {
     "name": "stdout",
     "output_type": "stream",
     "text": [
      "\n",
      "Resultados Finales\n",
      "Equipos Ganadores: EquipoA (32 puntos)\n"
     ]
    }
   ],
   "source": [
    "# Equipo/s ganadores según puntaje total\n",
    "max_puntaje = max(d['puntos'] for d in acumulado.values())\n",
    "ganadores = list(filter(lambda eq: acumulado[eq]['puntos'] == max_puntaje, acumulado))\n",
    "\n",
    "print(\"\\nResultados Finales\")\n",
    "print(f\"Equipos Ganadores: {', '.join(ganadores)} ({max_puntaje} puntos)\")\n"
   ]
  },
  {
   "cell_type": "code",
   "execution_count": 9,
   "id": "aeb2d69e-7a08-4ec5-a6fb-2b4b351468fe",
   "metadata": {
    "scrolled": true
   },
   "outputs": [
    {
     "name": "stdout",
     "output_type": "stream",
     "text": [
      "\n",
      "Tabla Final de Resultados\n",
      "Equipo     Innovación Presentación  Errores  Mejores   Puntos\n",
      "EquipoA    8          10            2        2         32    \n",
      "EquipoE    7          7             1        0         27    \n",
      "EquipoC    7          6             1        1         26    \n",
      "EquipoB    7          6             3        0         24    \n",
      "EquipoD    6          8             3        2         23    \n"
     ]
    }
   ],
   "source": [
    "# tabla final ordenada por puntaje\n",
    "print(\"\\nTabla Final de Resultados\")\n",
    "e.mostrar_tabla(acumulado)\n"
   ]
  },
  {
   "cell_type": "code",
   "execution_count": 11,
   "id": "5283777c-0834-4e6b-83d1-28754606c687",
   "metadata": {},
   "outputs": [
    {
     "name": "stdout",
     "output_type": "stream",
     "text": [
      "\n",
      "Ronda 1\n",
      "Mejor Equipo de la Ronda: EquipoA (6 puntos)\n",
      "Ranking Actualizado:\n",
      "Equipo     Innovación Presentación  Errores  Mejores   Puntos\n",
      "EquipoA    2          1             1        1         6     \n",
      "EquipoC    1          2             1        0         4     \n",
      "EquipoE    1          1             0        0         4     \n",
      "EquipoB    1          0             0        0         3     \n",
      "EquipoD    0          1             0        0         1     \n",
      "\n",
      "Ronda 2\n",
      "Mejor Equipo de la Ronda: EquipoD (6 puntos)\n",
      "Ranking Actualizado:\n",
      "Equipo     Innovación Presentación  Errores  Mejores   Puntos\n",
      "EquipoA    2          3             1        1         8     \n",
      "EquipoB    3          0             1        0         8     \n",
      "EquipoC    2          3             1        0         8     \n",
      "EquipoD    2          2             1        1         7     \n",
      "EquipoE    1          2             0        0         5     \n",
      "\n",
      "Ronda 3\n",
      "Mejor Equipo de la Ronda: EquipoA (11 puntos)\n",
      "Ranking Actualizado:\n",
      "Equipo     Innovación Presentación  Errores  Mejores   Puntos\n",
      "EquipoA    5          5             1        2         19    \n",
      "EquipoC    4          3             1        0         14    \n",
      "EquipoE    3          4             0        0         13    \n",
      "EquipoD    3          5             2        1         12    \n",
      "EquipoB    4          1             2        0         11    \n",
      "\n",
      "Ronda 4\n",
      "Mejor Equipo de la Ronda: EquipoC (10 puntos)\n",
      "Ranking Actualizado:\n",
      "Equipo     Innovación Presentación  Errores  Mejores   Puntos\n",
      "EquipoA    6          8             2        2         24    \n",
      "EquipoC    7          4             1        1         24    \n",
      "EquipoB    6          3             2        0         19    \n",
      "EquipoE    5          4             0        0         19    \n",
      "EquipoD    3          7             3        1         13    \n",
      "\n",
      "Ronda 5\n",
      "Mejor Equipo de la Ronda: EquipoD (10 puntos)\n",
      "Ranking Actualizado:\n",
      "Equipo     Innovación Presentación  Errores  Mejores   Puntos\n",
      "EquipoA    8          10            2        2         32    \n",
      "EquipoE    7          7             1        0         27    \n",
      "EquipoC    7          6             1        1         26    \n",
      "EquipoB    7          6             3        0         24    \n",
      "EquipoD    6          8             3        2         23    \n",
      "\n",
      "Resultados Finales\n",
      "Equipos Ganadores: EquipoA (32 puntos)\n",
      "\n",
      "Tabla Final de Resultados\n",
      "Equipo     Innovación Presentación  Errores  Mejores   Puntos\n",
      "EquipoA    8          10            2        2         32    \n",
      "EquipoE    7          7             1        0         27    \n",
      "EquipoC    7          6             1        1         26    \n",
      "EquipoB    7          6             3        0         24    \n",
      "EquipoD    6          8             3        2         23    \n"
     ]
    }
   ],
   "source": [
    "import procesos as p\n",
    "\n",
    "acumulado = {}\n",
    "mejores_equipos_ronda = []\n",
    "\n",
    "for i, ronda in enumerate(evaluaciones):\n",
    "    p.procesar_ronda(i, ronda, acumulado, mejores_equipos_ronda)\n",
    "\n",
    "p.mostrar_resultados_finales(acumulado)\n"
   ]
  }
 ],
 "metadata": {
  "kernelspec": {
   "display_name": "Python [conda env:base] *",
   "language": "python",
   "name": "conda-base-py"
  },
  "language_info": {
   "codemirror_mode": {
    "name": "ipython",
    "version": 3
   },
   "file_extension": ".py",
   "mimetype": "text/x-python",
   "name": "python",
   "nbconvert_exporter": "python",
   "pygments_lexer": "ipython3",
   "version": "3.11.4"
  }
 },
 "nbformat": 4,
 "nbformat_minor": 5
}
