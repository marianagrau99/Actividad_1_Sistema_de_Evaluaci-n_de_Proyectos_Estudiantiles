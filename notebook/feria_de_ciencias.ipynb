{
 "cells": [
  {
   "cell_type": "code",
   "execution_count": 1,
   "id": "e630e159-2f02-4e74-8027-6baf5ae49194",
   "metadata": {},
   "outputs": [],
   "source": [
    "import os\n",
    "import sys\n",
    "import json\n",
    "\n",
    "# Agrego la carpeta src al path para poder importar las funciones\n",
    "sys.path.append(os.path.abspath('../src'))\n",
    "\n",
    "# Importo módulos con las funciones de procesos\n",
    "import procesos as p"
   ]
  },
  {
   "cell_type": "code",
   "execution_count": 2,
   "id": "4d5ed2ba-aec8-4e39-9962-cc44375f35d2",
   "metadata": {},
   "outputs": [],
   "source": [
    "ruta = '../datos/datos.json'\n",
    "\n",
    "with open(ruta, 'r') as f:\n",
    "    evaluaciones = json.load(f)\n"
   ]
  },
  {
   "cell_type": "code",
   "execution_count": 3,
   "id": "009b90fe-1083-4083-b904-8179bb4bf4f3",
   "metadata": {},
   "outputs": [],
   "source": [
    "# Diccionario para acumular los datos de cada equipo\n",
    "acumulado = {}\n",
    "\n",
    "# Lista para guardar el mejor equipo de cada ronda\n",
    "mejores_equipos_ronda = []"
   ]
  },
  {
   "cell_type": "code",
   "execution_count": 4,
   "id": "5283777c-0834-4e6b-83d1-28754606c687",
   "metadata": {},
   "outputs": [
    {
     "name": "stdout",
     "output_type": "stream",
     "text": [
      "\n",
      "Ronda 1\n",
      "Mejor Equipo de la Ronda: EquipoA (6 puntos)\n",
      "Ranking Actualizado:\n",
      "Equipo     Innovación Presentación  Errores   Mejores Equipos   Puntos\n",
      "EquipoA    2          1             1                5          6     \n",
      "EquipoC    1          2             1                0          4     \n",
      "EquipoE    1          1             0                0          4     \n",
      "EquipoB    1          0             0                0          3     \n",
      "EquipoD    0          1             0                0          1     \n",
      "\n",
      "Ronda 2\n",
      "Mejor Equipo de la Ronda: EquipoD (6 puntos)\n",
      "Ranking Actualizado:\n",
      "Equipo     Innovación Presentación  Errores   Mejores Equipos   Puntos\n",
      "EquipoA    2          3             1                5          8     \n",
      "EquipoB    3          0             1                0          8     \n",
      "EquipoC    2          3             1                0          8     \n",
      "EquipoD    2          2             1                5          7     \n",
      "EquipoE    1          2             0                0          5     \n",
      "\n",
      "Ronda 3\n",
      "Mejor Equipo de la Ronda: EquipoA (11 puntos)\n",
      "Ranking Actualizado:\n",
      "Equipo     Innovación Presentación  Errores   Mejores Equipos   Puntos\n",
      "EquipoA    5          5             1                10         19    \n",
      "EquipoC    4          3             1                0          14    \n",
      "EquipoE    3          4             0                0          13    \n",
      "EquipoD    3          5             2                5          12    \n",
      "EquipoB    4          1             2                0          11    \n",
      "\n",
      "Ronda 4\n",
      "Mejor Equipo de la Ronda: EquipoC (10 puntos)\n",
      "Ranking Actualizado:\n",
      "Equipo     Innovación Presentación  Errores   Mejores Equipos   Puntos\n",
      "EquipoA    6          8             2                10         24    \n",
      "EquipoC    7          4             1                5          24    \n",
      "EquipoB    6          3             2                0          19    \n",
      "EquipoE    5          4             0                0          19    \n",
      "EquipoD    3          7             3                5          13    \n",
      "\n",
      "Ronda 5\n",
      "Mejor Equipo de la Ronda: EquipoD (10 puntos)\n",
      "Ranking Actualizado:\n",
      "Equipo     Innovación Presentación  Errores   Mejores Equipos   Puntos\n",
      "EquipoA    8          10            2                10         32    \n",
      "EquipoE    7          7             1                0          27    \n",
      "EquipoC    7          6             1                5          26    \n",
      "EquipoB    7          6             3                0          24    \n",
      "EquipoD    6          8             3                10         23    \n"
     ]
    }
   ],
   "source": [
    "# Procesar cada ronda de evaluación\n",
    "for i, ronda in enumerate(evaluaciones):\n",
    "    p.procesar_ronda(i, ronda, acumulado, mejores_equipos_ronda)\n"
   ]
  },
  {
   "cell_type": "code",
   "execution_count": 5,
   "id": "bf15c51b-248e-4224-97ed-4c29f538491c",
   "metadata": {},
   "outputs": [
    {
     "name": "stdout",
     "output_type": "stream",
     "text": [
      "\n",
      "Resultados Finales\n",
      "Equipos Ganadores: EquipoA (32 puntos)\n",
      "\n",
      "Tabla Final de Resultados\n",
      "Equipo     Innovación Presentación  Errores   Mejores Equipos   Puntos\n",
      "EquipoA    8          10            2                10         32    \n",
      "EquipoE    7          7             1                0          27    \n",
      "EquipoC    7          6             1                5          26    \n",
      "EquipoB    7          6             3                0          24    \n",
      "EquipoD    6          8             3                10         23    \n"
     ]
    }
   ],
   "source": [
    "p.mostrar_resultados_finales(acumulado)"
   ]
  },
  {
   "cell_type": "code",
   "execution_count": 6,
   "id": "367b98d4-226e-4bef-b198-038b8971d43f",
   "metadata": {},
   "outputs": [
    {
     "name": "stdout",
     "output_type": "stream",
     "text": [
      "\n",
      "Resumen de Puntajes Totales por Equipo:\n",
      "EquipoA: 32 puntos\n",
      "EquipoB: 24 puntos\n",
      "EquipoC: 26 puntos\n",
      "EquipoD: 23 puntos\n",
      "EquipoE: 27 puntos\n"
     ]
    }
   ],
   "source": [
    "p.mostrar_resumen_puntajes(acumulado)"
   ]
  }
 ],
 "metadata": {
  "kernelspec": {
   "display_name": "Python [conda env:base] *",
   "language": "python",
   "name": "conda-base-py"
  },
  "language_info": {
   "codemirror_mode": {
    "name": "ipython",
    "version": 3
   },
   "file_extension": ".py",
   "mimetype": "text/x-python",
   "name": "python",
   "nbconvert_exporter": "python",
   "pygments_lexer": "ipython3",
   "version": "3.11.4"
  }
 },
 "nbformat": 4,
 "nbformat_minor": 5
}
